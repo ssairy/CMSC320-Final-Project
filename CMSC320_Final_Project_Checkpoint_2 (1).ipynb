{
  "nbformat": 4,
  "nbformat_minor": 0,
  "metadata": {
    "colab": {
      "provenance": [],
      "toc_visible": true
    },
    "kernelspec": {
      "name": "python3",
      "display_name": "Python 3"
    },
    "language_info": {
      "name": "python"
    }
  },
  "cells": [
    {
      "cell_type": "markdown",
      "source": [
        "# Final Project Checkpoint 2\n",
        "### By Shriyans Sairy, Vahinreddy Palle, and Arjav Jain"
      ],
      "metadata": {
        "id": "FC8DSZ75H5xI"
      }
    },
    {
      "cell_type": "markdown",
      "source": [
        "## Data Preprocessing"
      ],
      "metadata": {
        "id": "6m7V57NkHrHN"
      }
    },
    {
      "cell_type": "code",
      "source": [
        "from google.colab import drive\n",
        "drive.mount('/content/drive')"
      ],
      "metadata": {
        "colab": {
          "base_uri": "https://localhost:8080/"
        },
        "id": "uiAtVjQCMX6B",
        "outputId": "7a2653a5-7660-4478-c538-fe5fc6f6c953"
      },
      "execution_count": 49,
      "outputs": [
        {
          "output_type": "stream",
          "name": "stdout",
          "text": [
            "Drive already mounted at /content/drive; to attempt to forcibly remount, call drive.mount(\"/content/drive\", force_remount=True).\n"
          ]
        }
      ]
    },
    {
      "cell_type": "code",
      "execution_count": 50,
      "metadata": {
        "colab": {
          "base_uri": "https://localhost:8080/",
          "height": 255
        },
        "id": "XmTjn-bhGJug",
        "outputId": "770cae8d-e0db-4338-883a-2185cbac643d"
      },
      "outputs": [
        {
          "output_type": "execute_result",
          "data": {
            "text/plain": [
              "  team   player_id   player_name position  depth  draft_year  draft_round  \\\n",
              "0  BUF  00-0034857    Josh Allen       QB      1        2018            1   \n",
              "1  DAL  00-0036358   CeeDee Lamb       WR      1        2020            1   \n",
              "2  DAL  00-0033077  Dak Prescott       QB      1        2016            4   \n",
              "3  MIA  00-0033040   Tyreek Hill       WR      1        2016            5   \n",
              "4  PHI  00-0036389   Jalen Hurts       QB      1        2020            2   \n",
              "\n",
              "   draft_pick  draft_ovr  height  ...  fantasy_points_ppr  \\\n",
              "0           7          7      77  ...              374.48   \n",
              "1          17         17      74  ...              373.00   \n",
              "2          37        135      74  ...              368.36   \n",
              "3          28        165      70  ...              365.90   \n",
              "4          21         53      73  ...              357.16   \n",
              "\n",
              "  position_fantasy_rank  total_fantasy_rank  pass_attempts  complete_pass  \\\n",
              "0                     1                   1            522            322   \n",
              "1                     1                   2              0              0   \n",
              "2                     2                   3            611            391   \n",
              "3                     2                   4              0              0   \n",
              "4                     3                   5            501            303   \n",
              "\n",
              "   incomplete_pass  passing_yards  passing_air_yards  interception  pass_td  \n",
              "0              150           3537               3817            11       25  \n",
              "1                0              0                  0             0        0  \n",
              "2              161           3949               4334             6       29  \n",
              "3                0              0                  0             0        0  \n",
              "4              143           3174               3520             8       20  \n",
              "\n",
              "[5 rows x 35 columns]"
            ],
            "text/html": [
              "\n",
              "  <div id=\"df-78a3fbf0-c5ff-4af5-845e-bb8ee1574442\" class=\"colab-df-container\">\n",
              "    <div>\n",
              "<style scoped>\n",
              "    .dataframe tbody tr th:only-of-type {\n",
              "        vertical-align: middle;\n",
              "    }\n",
              "\n",
              "    .dataframe tbody tr th {\n",
              "        vertical-align: top;\n",
              "    }\n",
              "\n",
              "    .dataframe thead th {\n",
              "        text-align: right;\n",
              "    }\n",
              "</style>\n",
              "<table border=\"1\" class=\"dataframe\">\n",
              "  <thead>\n",
              "    <tr style=\"text-align: right;\">\n",
              "      <th></th>\n",
              "      <th>team</th>\n",
              "      <th>player_id</th>\n",
              "      <th>player_name</th>\n",
              "      <th>position</th>\n",
              "      <th>depth</th>\n",
              "      <th>draft_year</th>\n",
              "      <th>draft_round</th>\n",
              "      <th>draft_pick</th>\n",
              "      <th>draft_ovr</th>\n",
              "      <th>height</th>\n",
              "      <th>...</th>\n",
              "      <th>fantasy_points_ppr</th>\n",
              "      <th>position_fantasy_rank</th>\n",
              "      <th>total_fantasy_rank</th>\n",
              "      <th>pass_attempts</th>\n",
              "      <th>complete_pass</th>\n",
              "      <th>incomplete_pass</th>\n",
              "      <th>passing_yards</th>\n",
              "      <th>passing_air_yards</th>\n",
              "      <th>interception</th>\n",
              "      <th>pass_td</th>\n",
              "    </tr>\n",
              "  </thead>\n",
              "  <tbody>\n",
              "    <tr>\n",
              "      <th>0</th>\n",
              "      <td>BUF</td>\n",
              "      <td>00-0034857</td>\n",
              "      <td>Josh Allen</td>\n",
              "      <td>QB</td>\n",
              "      <td>1</td>\n",
              "      <td>2018</td>\n",
              "      <td>1</td>\n",
              "      <td>7</td>\n",
              "      <td>7</td>\n",
              "      <td>77</td>\n",
              "      <td>...</td>\n",
              "      <td>374.48</td>\n",
              "      <td>1</td>\n",
              "      <td>1</td>\n",
              "      <td>522</td>\n",
              "      <td>322</td>\n",
              "      <td>150</td>\n",
              "      <td>3537</td>\n",
              "      <td>3817</td>\n",
              "      <td>11</td>\n",
              "      <td>25</td>\n",
              "    </tr>\n",
              "    <tr>\n",
              "      <th>1</th>\n",
              "      <td>DAL</td>\n",
              "      <td>00-0036358</td>\n",
              "      <td>CeeDee Lamb</td>\n",
              "      <td>WR</td>\n",
              "      <td>1</td>\n",
              "      <td>2020</td>\n",
              "      <td>1</td>\n",
              "      <td>17</td>\n",
              "      <td>17</td>\n",
              "      <td>74</td>\n",
              "      <td>...</td>\n",
              "      <td>373.00</td>\n",
              "      <td>1</td>\n",
              "      <td>2</td>\n",
              "      <td>0</td>\n",
              "      <td>0</td>\n",
              "      <td>0</td>\n",
              "      <td>0</td>\n",
              "      <td>0</td>\n",
              "      <td>0</td>\n",
              "      <td>0</td>\n",
              "    </tr>\n",
              "    <tr>\n",
              "      <th>2</th>\n",
              "      <td>DAL</td>\n",
              "      <td>00-0033077</td>\n",
              "      <td>Dak Prescott</td>\n",
              "      <td>QB</td>\n",
              "      <td>1</td>\n",
              "      <td>2016</td>\n",
              "      <td>4</td>\n",
              "      <td>37</td>\n",
              "      <td>135</td>\n",
              "      <td>74</td>\n",
              "      <td>...</td>\n",
              "      <td>368.36</td>\n",
              "      <td>2</td>\n",
              "      <td>3</td>\n",
              "      <td>611</td>\n",
              "      <td>391</td>\n",
              "      <td>161</td>\n",
              "      <td>3949</td>\n",
              "      <td>4334</td>\n",
              "      <td>6</td>\n",
              "      <td>29</td>\n",
              "    </tr>\n",
              "    <tr>\n",
              "      <th>3</th>\n",
              "      <td>MIA</td>\n",
              "      <td>00-0033040</td>\n",
              "      <td>Tyreek Hill</td>\n",
              "      <td>WR</td>\n",
              "      <td>1</td>\n",
              "      <td>2016</td>\n",
              "      <td>5</td>\n",
              "      <td>28</td>\n",
              "      <td>165</td>\n",
              "      <td>70</td>\n",
              "      <td>...</td>\n",
              "      <td>365.90</td>\n",
              "      <td>2</td>\n",
              "      <td>4</td>\n",
              "      <td>0</td>\n",
              "      <td>0</td>\n",
              "      <td>0</td>\n",
              "      <td>0</td>\n",
              "      <td>0</td>\n",
              "      <td>0</td>\n",
              "      <td>0</td>\n",
              "    </tr>\n",
              "    <tr>\n",
              "      <th>4</th>\n",
              "      <td>PHI</td>\n",
              "      <td>00-0036389</td>\n",
              "      <td>Jalen Hurts</td>\n",
              "      <td>QB</td>\n",
              "      <td>1</td>\n",
              "      <td>2020</td>\n",
              "      <td>2</td>\n",
              "      <td>21</td>\n",
              "      <td>53</td>\n",
              "      <td>73</td>\n",
              "      <td>...</td>\n",
              "      <td>357.16</td>\n",
              "      <td>3</td>\n",
              "      <td>5</td>\n",
              "      <td>501</td>\n",
              "      <td>303</td>\n",
              "      <td>143</td>\n",
              "      <td>3174</td>\n",
              "      <td>3520</td>\n",
              "      <td>8</td>\n",
              "      <td>20</td>\n",
              "    </tr>\n",
              "  </tbody>\n",
              "</table>\n",
              "<p>5 rows × 35 columns</p>\n",
              "</div>\n",
              "    <div class=\"colab-df-buttons\">\n",
              "\n",
              "  <div class=\"colab-df-container\">\n",
              "    <button class=\"colab-df-convert\" onclick=\"convertToInteractive('df-78a3fbf0-c5ff-4af5-845e-bb8ee1574442')\"\n",
              "            title=\"Convert this dataframe to an interactive table.\"\n",
              "            style=\"display:none;\">\n",
              "\n",
              "  <svg xmlns=\"http://www.w3.org/2000/svg\" height=\"24px\" viewBox=\"0 -960 960 960\">\n",
              "    <path d=\"M120-120v-720h720v720H120Zm60-500h600v-160H180v160Zm220 220h160v-160H400v160Zm0 220h160v-160H400v160ZM180-400h160v-160H180v160Zm440 0h160v-160H620v160ZM180-180h160v-160H180v160Zm440 0h160v-160H620v160Z\"/>\n",
              "  </svg>\n",
              "    </button>\n",
              "\n",
              "  <style>\n",
              "    .colab-df-container {\n",
              "      display:flex;\n",
              "      gap: 12px;\n",
              "    }\n",
              "\n",
              "    .colab-df-convert {\n",
              "      background-color: #E8F0FE;\n",
              "      border: none;\n",
              "      border-radius: 50%;\n",
              "      cursor: pointer;\n",
              "      display: none;\n",
              "      fill: #1967D2;\n",
              "      height: 32px;\n",
              "      padding: 0 0 0 0;\n",
              "      width: 32px;\n",
              "    }\n",
              "\n",
              "    .colab-df-convert:hover {\n",
              "      background-color: #E2EBFA;\n",
              "      box-shadow: 0px 1px 2px rgba(60, 64, 67, 0.3), 0px 1px 3px 1px rgba(60, 64, 67, 0.15);\n",
              "      fill: #174EA6;\n",
              "    }\n",
              "\n",
              "    .colab-df-buttons div {\n",
              "      margin-bottom: 4px;\n",
              "    }\n",
              "\n",
              "    [theme=dark] .colab-df-convert {\n",
              "      background-color: #3B4455;\n",
              "      fill: #D2E3FC;\n",
              "    }\n",
              "\n",
              "    [theme=dark] .colab-df-convert:hover {\n",
              "      background-color: #434B5C;\n",
              "      box-shadow: 0px 1px 3px 1px rgba(0, 0, 0, 0.15);\n",
              "      filter: drop-shadow(0px 1px 2px rgba(0, 0, 0, 0.3));\n",
              "      fill: #FFFFFF;\n",
              "    }\n",
              "  </style>\n",
              "\n",
              "    <script>\n",
              "      const buttonEl =\n",
              "        document.querySelector('#df-78a3fbf0-c5ff-4af5-845e-bb8ee1574442 button.colab-df-convert');\n",
              "      buttonEl.style.display =\n",
              "        google.colab.kernel.accessAllowed ? 'block' : 'none';\n",
              "\n",
              "      async function convertToInteractive(key) {\n",
              "        const element = document.querySelector('#df-78a3fbf0-c5ff-4af5-845e-bb8ee1574442');\n",
              "        const dataTable =\n",
              "          await google.colab.kernel.invokeFunction('convertToInteractive',\n",
              "                                                    [key], {});\n",
              "        if (!dataTable) return;\n",
              "\n",
              "        const docLinkHtml = 'Like what you see? Visit the ' +\n",
              "          '<a target=\"_blank\" href=https://colab.research.google.com/notebooks/data_table.ipynb>data table notebook</a>'\n",
              "          + ' to learn more about interactive tables.';\n",
              "        element.innerHTML = '';\n",
              "        dataTable['output_type'] = 'display_data';\n",
              "        await google.colab.output.renderOutput(dataTable, element);\n",
              "        const docLink = document.createElement('div');\n",
              "        docLink.innerHTML = docLinkHtml;\n",
              "        element.appendChild(docLink);\n",
              "      }\n",
              "    </script>\n",
              "  </div>\n",
              "\n",
              "\n",
              "<div id=\"df-022c754a-75f0-40d5-b11a-c2394cd5ae6f\">\n",
              "  <button class=\"colab-df-quickchart\" onclick=\"quickchart('df-022c754a-75f0-40d5-b11a-c2394cd5ae6f')\"\n",
              "            title=\"Suggest charts\"\n",
              "            style=\"display:none;\">\n",
              "\n",
              "<svg xmlns=\"http://www.w3.org/2000/svg\" height=\"24px\"viewBox=\"0 0 24 24\"\n",
              "     width=\"24px\">\n",
              "    <g>\n",
              "        <path d=\"M19 3H5c-1.1 0-2 .9-2 2v14c0 1.1.9 2 2 2h14c1.1 0 2-.9 2-2V5c0-1.1-.9-2-2-2zM9 17H7v-7h2v7zm4 0h-2V7h2v10zm4 0h-2v-4h2v4z\"/>\n",
              "    </g>\n",
              "</svg>\n",
              "  </button>\n",
              "\n",
              "<style>\n",
              "  .colab-df-quickchart {\n",
              "      --bg-color: #E8F0FE;\n",
              "      --fill-color: #1967D2;\n",
              "      --hover-bg-color: #E2EBFA;\n",
              "      --hover-fill-color: #174EA6;\n",
              "      --disabled-fill-color: #AAA;\n",
              "      --disabled-bg-color: #DDD;\n",
              "  }\n",
              "\n",
              "  [theme=dark] .colab-df-quickchart {\n",
              "      --bg-color: #3B4455;\n",
              "      --fill-color: #D2E3FC;\n",
              "      --hover-bg-color: #434B5C;\n",
              "      --hover-fill-color: #FFFFFF;\n",
              "      --disabled-bg-color: #3B4455;\n",
              "      --disabled-fill-color: #666;\n",
              "  }\n",
              "\n",
              "  .colab-df-quickchart {\n",
              "    background-color: var(--bg-color);\n",
              "    border: none;\n",
              "    border-radius: 50%;\n",
              "    cursor: pointer;\n",
              "    display: none;\n",
              "    fill: var(--fill-color);\n",
              "    height: 32px;\n",
              "    padding: 0;\n",
              "    width: 32px;\n",
              "  }\n",
              "\n",
              "  .colab-df-quickchart:hover {\n",
              "    background-color: var(--hover-bg-color);\n",
              "    box-shadow: 0 1px 2px rgba(60, 64, 67, 0.3), 0 1px 3px 1px rgba(60, 64, 67, 0.15);\n",
              "    fill: var(--button-hover-fill-color);\n",
              "  }\n",
              "\n",
              "  .colab-df-quickchart-complete:disabled,\n",
              "  .colab-df-quickchart-complete:disabled:hover {\n",
              "    background-color: var(--disabled-bg-color);\n",
              "    fill: var(--disabled-fill-color);\n",
              "    box-shadow: none;\n",
              "  }\n",
              "\n",
              "  .colab-df-spinner {\n",
              "    border: 2px solid var(--fill-color);\n",
              "    border-color: transparent;\n",
              "    border-bottom-color: var(--fill-color);\n",
              "    animation:\n",
              "      spin 1s steps(1) infinite;\n",
              "  }\n",
              "\n",
              "  @keyframes spin {\n",
              "    0% {\n",
              "      border-color: transparent;\n",
              "      border-bottom-color: var(--fill-color);\n",
              "      border-left-color: var(--fill-color);\n",
              "    }\n",
              "    20% {\n",
              "      border-color: transparent;\n",
              "      border-left-color: var(--fill-color);\n",
              "      border-top-color: var(--fill-color);\n",
              "    }\n",
              "    30% {\n",
              "      border-color: transparent;\n",
              "      border-left-color: var(--fill-color);\n",
              "      border-top-color: var(--fill-color);\n",
              "      border-right-color: var(--fill-color);\n",
              "    }\n",
              "    40% {\n",
              "      border-color: transparent;\n",
              "      border-right-color: var(--fill-color);\n",
              "      border-top-color: var(--fill-color);\n",
              "    }\n",
              "    60% {\n",
              "      border-color: transparent;\n",
              "      border-right-color: var(--fill-color);\n",
              "    }\n",
              "    80% {\n",
              "      border-color: transparent;\n",
              "      border-right-color: var(--fill-color);\n",
              "      border-bottom-color: var(--fill-color);\n",
              "    }\n",
              "    90% {\n",
              "      border-color: transparent;\n",
              "      border-bottom-color: var(--fill-color);\n",
              "    }\n",
              "  }\n",
              "</style>\n",
              "\n",
              "  <script>\n",
              "    async function quickchart(key) {\n",
              "      const quickchartButtonEl =\n",
              "        document.querySelector('#' + key + ' button');\n",
              "      quickchartButtonEl.disabled = true;  // To prevent multiple clicks.\n",
              "      quickchartButtonEl.classList.add('colab-df-spinner');\n",
              "      try {\n",
              "        const charts = await google.colab.kernel.invokeFunction(\n",
              "            'suggestCharts', [key], {});\n",
              "      } catch (error) {\n",
              "        console.error('Error during call to suggestCharts:', error);\n",
              "      }\n",
              "      quickchartButtonEl.classList.remove('colab-df-spinner');\n",
              "      quickchartButtonEl.classList.add('colab-df-quickchart-complete');\n",
              "    }\n",
              "    (() => {\n",
              "      let quickchartButtonEl =\n",
              "        document.querySelector('#df-022c754a-75f0-40d5-b11a-c2394cd5ae6f button');\n",
              "      quickchartButtonEl.style.display =\n",
              "        google.colab.kernel.accessAllowed ? 'block' : 'none';\n",
              "    })();\n",
              "  </script>\n",
              "</div>\n",
              "\n",
              "    </div>\n",
              "  </div>\n"
            ],
            "application/vnd.google.colaboratory.intrinsic+json": {
              "type": "dataframe",
              "variable_name": "df"
            }
          },
          "metadata": {},
          "execution_count": 50
        }
      ],
      "source": [
        "import pandas as pd\n",
        "import matplotlib.pyplot as plt\n",
        "import numpy as np\n",
        "\n",
        "df = pd.read_csv('/content/drive/MyDrive/CMSC320 dataset/2024_player_predictions.csv')\n",
        "df2 = pd.read_csv('/content/drive/MyDrive/CMSC320 dataset/combined_data_2000-2023.csv')\n",
        "df.head()"
      ]
    },
    {
      "cell_type": "markdown",
      "source": [
        "## Basic Data Exploration and Summary Statistics"
      ],
      "metadata": {
        "id": "py4-xj0GNCBn"
      }
    },
    {
      "cell_type": "markdown",
      "source": [
        "### Conclusion 1: Comparing the Distributions of Fantasy Rankings of QBs and WRs\n"
      ],
      "metadata": {
        "id": "L656KsgUTftv"
      }
    },
    {
      "cell_type": "markdown",
      "source": [
        "Let's compare the distributions of position fantasy ranks for quarterbacks and wide receivers. We will do so by conducting a two sample T-test with the following hypotheses:\n",
        "\n",
        "$h_0= $ There is no significant difference in mean fantasy rankings of quarterbacks and wide receivers \\\\\n",
        "$h_A= $ There is a significant difference in mean fantasy rankings of quarterbacks and wide receivers"
      ],
      "metadata": {
        "id": "BBKMx5K3Y4aN"
      }
    },
    {
      "cell_type": "code",
      "source": [
        "from scipy import stats\n",
        "\n",
        "qb_fantasy_rank = df[df['position'] == 'QB']['position_fantasy_rank']\n",
        "wr_fantasy_rank = df[df['position'] == 'WR']['position_fantasy_rank']\n",
        "\n",
        "t_stat, p_value = stats.ttest_ind(qb_fantasy_rank, wr_fantasy_rank)\n",
        "print(f\"T-statistic: {t_stat}, P-value: {p_value}\")"
      ],
      "metadata": {
        "id": "a4bIq-69QSBm",
        "colab": {
          "base_uri": "https://localhost:8080/"
        },
        "outputId": "2ee00364-2894-4ee1-ba2c-07d9dc88f2a7"
      },
      "execution_count": 51,
      "outputs": [
        {
          "output_type": "stream",
          "name": "stdout",
          "text": [
            "T-statistic: -5.285739887077887, P-value: 7.591124632677668e-07\n"
          ]
        }
      ]
    },
    {
      "cell_type": "markdown",
      "source": [
        "Since the p-value is much smaller than 0.05, we reject the null hypothesis. This means there is a statistically significant difference between the fantasy rankings of quarterbacks (QB) and wide receivers (WR).\n",
        "The negative t-statistic suggests that, on average, quarterbacks (QB) have a better (lower) fantasy ranking than wide receivers (WR)."
      ],
      "metadata": {
        "id": "_f2sHyqUT8_k"
      }
    },
    {
      "cell_type": "code",
      "source": [
        "import seaborn as sns\n",
        "import matplotlib.pyplot as plt\n",
        "\n",
        "# Create a subset of the data for QB and WR fantasy ranks\n",
        "df_subset = df[df['position'].isin(['QB', 'WR'])]\n",
        "\n",
        "# Create the boxplot\n",
        "plt.figure(figsize=(10, 6))\n",
        "sns.boxplot(x='position', y='position_fantasy_rank', data=df_subset, palette='Set2')\n",
        "\n",
        "# Add labels and title\n",
        "plt.title('Fantasy Rankings of Quarterbacks (QB) vs Wide Receivers (WR)', fontsize=16)\n",
        "plt.xlabel('Position', fontsize=14)\n",
        "plt.ylabel('Fantasy Ranking', fontsize=14)\n",
        "\n",
        "# Display the plot\n",
        "plt.show()"
      ],
      "metadata": {
        "colab": {
          "base_uri": "https://localhost:8080/",
          "height": 658
        },
        "id": "bocilHkBTbeJ",
        "outputId": "7f42b560-8fe6-4035-9730-a7ee327864e9"
      },
      "execution_count": 52,
      "outputs": [
        {
          "output_type": "stream",
          "name": "stderr",
          "text": [
            "<ipython-input-52-13fa7512525b>:9: FutureWarning: \n",
            "\n",
            "Passing `palette` without assigning `hue` is deprecated and will be removed in v0.14.0. Assign the `x` variable to `hue` and set `legend=False` for the same effect.\n",
            "\n",
            "  sns.boxplot(x='position', y='position_fantasy_rank', data=df_subset, palette='Set2')\n"
          ]
        },
        {
          "output_type": "display_data",
          "data": {
            "text/plain": [
              "<Figure size 1000x600 with 1 Axes>"
            ],
            "image/png": "[encoded data removed]"
          },
          "metadata": {}
        }
      ]
    },
    {
      "cell_type": "markdown",
      "source": [
        "### Conclusion 2: Comparing the Distributions of Contract Amounts Across Different Positions\n"
      ],
      "metadata": {
        "id": "fmlPULeeWliQ"
      }
    },
    {
      "cell_type": "markdown",
      "source": [
        "Let's compare the distributions of contracts across different positions. We will do so by conducting a chi-squared test with the following hypotheses:\n",
        "\n",
        "$h_0= $ The position of an NFL player does not affect the amount of total money they will receive in their contract \\\\\n",
        "$h_A= $ The position of an NFL player affects the amount of total money they will receive in their contract"
      ],
      "metadata": {
        "id": "zkIZ9cAIZo5e"
      }
    },
    {
      "cell_type": "code",
      "source": [
        "from scipy.stats import chi2_contingency\n",
        "\n",
        "position = df['position']\n",
        "# df2 is the df for the 2nd dataset\n",
        "contract = df2['value_norm']\n",
        "\n",
        "# Create a contingency table\n",
        "contingency_table = pd.crosstab(position, contract)\n",
        "\n",
        "# Perform Chi-Square test\n",
        "chi2, p, dof, expected = chi2_contingency(contingency_table)\n",
        "\n",
        "# Print results\n",
        "print(\"Chi-Square Statistic:\", chi2)\n",
        "print(\"p-value:\", p)\n",
        "print(\"Degrees of Freedom:\", dof)\n",
        "print(\"Expected Frequencies:\\n\", expected)"
      ],
      "metadata": {
        "id": "t5vg81PVWIqu",
        "colab": {
          "base_uri": "https://localhost:8080/"
        },
        "outputId": "482bf88a-ae6f-44e8-b47c-e11b5da94a2f"
      },
      "execution_count": 53,
      "outputs": [
        {
          "output_type": "stream",
          "name": "stdout",
          "text": [
            "Chi-Square Statistic: 506.3533106686093\n",
            "p-value: 0.3880841152895273\n",
            "Degrees of Freedom: 498\n",
            "Expected Frequencies:\n",
            " [[0.16477273 0.16477273 0.32954545 0.16477273 0.16477273 0.16477273\n",
            "  0.16477273 0.32954545 0.16477273 0.16477273 0.16477273 0.16477273\n",
            "  0.16477273 0.16477273 0.16477273 0.32954545 0.16477273 0.16477273\n",
            "  0.32954545 0.16477273 0.16477273 0.16477273 0.32954545 0.16477273\n",
            "  0.16477273 0.16477273 0.16477273 0.16477273 0.16477273 0.16477273\n",
            "  0.16477273 0.16477273 0.16477273 0.16477273 0.16477273 0.16477273\n",
            "  0.16477273 0.16477273 0.16477273 0.16477273 0.16477273 0.16477273\n",
            "  0.16477273 0.16477273 0.16477273 0.16477273 0.32954545 0.16477273\n",
            "  0.16477273 0.16477273 0.16477273 0.16477273 0.16477273 0.16477273\n",
            "  0.16477273 0.16477273 0.16477273 0.16477273 0.16477273 0.16477273\n",
            "  0.16477273 0.16477273 0.16477273 0.16477273 0.16477273 0.16477273\n",
            "  0.16477273 0.16477273 0.16477273 0.16477273 0.16477273 0.16477273\n",
            "  0.16477273 0.16477273 0.16477273 0.16477273 0.16477273 0.16477273\n",
            "  0.16477273 0.16477273 0.32954545 0.16477273 0.16477273 0.16477273\n",
            "  0.16477273 0.16477273 0.16477273 0.16477273 0.16477273 0.16477273\n",
            "  0.16477273 0.16477273 0.16477273 0.16477273 0.16477273 0.16477273\n",
            "  0.16477273 0.16477273 0.16477273 0.16477273 0.16477273 0.16477273\n",
            "  0.16477273 0.16477273 0.16477273 0.16477273 0.16477273 0.16477273\n",
            "  0.16477273 0.16477273 0.16477273 0.32954545 0.16477273 0.16477273\n",
            "  0.16477273 0.16477273 0.16477273 0.16477273 0.16477273 0.16477273\n",
            "  0.16477273 0.16477273 0.16477273 0.16477273 0.32954545 0.16477273\n",
            "  0.16477273 0.16477273 0.16477273 0.16477273 0.16477273 0.16477273\n",
            "  0.16477273 0.16477273 0.16477273 0.16477273 0.16477273 0.16477273\n",
            "  0.16477273 0.16477273 0.16477273 0.16477273 0.16477273 0.16477273\n",
            "  0.16477273 0.16477273 0.16477273 0.16477273 0.16477273 0.16477273\n",
            "  0.16477273 0.16477273 0.16477273 0.16477273 0.16477273 0.16477273\n",
            "  0.16477273 0.16477273 0.16477273 0.16477273 0.16477273 0.16477273\n",
            "  0.16477273 0.16477273 0.16477273 0.16477273 0.16477273]\n",
            " [0.22727273 0.22727273 0.45454545 0.22727273 0.22727273 0.22727273\n",
            "  0.22727273 0.45454545 0.22727273 0.22727273 0.22727273 0.22727273\n",
            "  0.22727273 0.22727273 0.22727273 0.45454545 0.22727273 0.22727273\n",
            "  0.45454545 0.22727273 0.22727273 0.22727273 0.45454545 0.22727273\n",
            "  0.22727273 0.22727273 0.22727273 0.22727273 0.22727273 0.22727273\n",
            "  0.22727273 0.22727273 0.22727273 0.22727273 0.22727273 0.22727273\n",
            "  0.22727273 0.22727273 0.22727273 0.22727273 0.22727273 0.22727273\n",
            "  0.22727273 0.22727273 0.22727273 0.22727273 0.45454545 0.22727273\n",
            "  0.22727273 0.22727273 0.22727273 0.22727273 0.22727273 0.22727273\n",
            "  0.22727273 0.22727273 0.22727273 0.22727273 0.22727273 0.22727273\n",
            "  0.22727273 0.22727273 0.22727273 0.22727273 0.22727273 0.22727273\n",
            "  0.22727273 0.22727273 0.22727273 0.22727273 0.22727273 0.22727273\n",
            "  0.22727273 0.22727273 0.22727273 0.22727273 0.22727273 0.22727273\n",
            "  0.22727273 0.22727273 0.45454545 0.22727273 0.22727273 0.22727273\n",
            "  0.22727273 0.22727273 0.22727273 0.22727273 0.22727273 0.22727273\n",
            "  0.22727273 0.22727273 0.22727273 0.22727273 0.22727273 0.22727273\n",
            "  0.22727273 0.22727273 0.22727273 0.22727273 0.22727273 0.22727273\n",
            "  0.22727273 0.22727273 0.22727273 0.22727273 0.22727273 0.22727273\n",
            "  0.22727273 0.22727273 0.22727273 0.45454545 0.22727273 0.22727273\n",
            "  0.22727273 0.22727273 0.22727273 0.22727273 0.22727273 0.22727273\n",
            "  0.22727273 0.22727273 0.22727273 0.22727273 0.45454545 0.22727273\n",
            "  0.22727273 0.22727273 0.22727273 0.22727273 0.22727273 0.22727273\n",
            "  0.22727273 0.22727273 0.22727273 0.22727273 0.22727273 0.22727273\n",
            "  0.22727273 0.22727273 0.22727273 0.22727273 0.22727273 0.22727273\n",
            "  0.22727273 0.22727273 0.22727273 0.22727273 0.22727273 0.22727273\n",
            "  0.22727273 0.22727273 0.22727273 0.22727273 0.22727273 0.22727273\n",
            "  0.22727273 0.22727273 0.22727273 0.22727273 0.22727273 0.22727273\n",
            "  0.22727273 0.22727273 0.22727273 0.22727273 0.22727273]\n",
            " [0.20454545 0.20454545 0.40909091 0.20454545 0.20454545 0.20454545\n",
            "  0.20454545 0.40909091 0.20454545 0.20454545 0.20454545 0.20454545\n",
            "  0.20454545 0.20454545 0.20454545 0.40909091 0.20454545 0.20454545\n",
            "  0.40909091 0.20454545 0.20454545 0.20454545 0.40909091 0.20454545\n",
            "  0.20454545 0.20454545 0.20454545 0.20454545 0.20454545 0.20454545\n",
            "  0.20454545 0.20454545 0.20454545 0.20454545 0.20454545 0.20454545\n",
            "  0.20454545 0.20454545 0.20454545 0.20454545 0.20454545 0.20454545\n",
            "  0.20454545 0.20454545 0.20454545 0.20454545 0.40909091 0.20454545\n",
            "  0.20454545 0.20454545 0.20454545 0.20454545 0.20454545 0.20454545\n",
            "  0.20454545 0.20454545 0.20454545 0.20454545 0.20454545 0.20454545\n",
            "  0.20454545 0.20454545 0.20454545 0.20454545 0.20454545 0.20454545\n",
            "  0.20454545 0.20454545 0.20454545 0.20454545 0.20454545 0.20454545\n",
            "  0.20454545 0.20454545 0.20454545 0.20454545 0.20454545 0.20454545\n",
            "  0.20454545 0.20454545 0.40909091 0.20454545 0.20454545 0.20454545\n",
            "  0.20454545 0.20454545 0.20454545 0.20454545 0.20454545 0.20454545\n",
            "  0.20454545 0.20454545 0.20454545 0.20454545 0.20454545 0.20454545\n",
            "  0.20454545 0.20454545 0.20454545 0.20454545 0.20454545 0.20454545\n",
            "  0.20454545 0.20454545 0.20454545 0.20454545 0.20454545 0.20454545\n",
            "  0.20454545 0.20454545 0.20454545 0.40909091 0.20454545 0.20454545\n",
            "  0.20454545 0.20454545 0.20454545 0.20454545 0.20454545 0.20454545\n",
            "  0.20454545 0.20454545 0.20454545 0.20454545 0.40909091 0.20454545\n",
            "  0.20454545 0.20454545 0.20454545 0.20454545 0.20454545 0.20454545\n",
            "  0.20454545 0.20454545 0.20454545 0.20454545 0.20454545 0.20454545\n",
            "  0.20454545 0.20454545 0.20454545 0.20454545 0.20454545 0.20454545\n",
            "  0.20454545 0.20454545 0.20454545 0.20454545 0.20454545 0.20454545\n",
            "  0.20454545 0.20454545 0.20454545 0.20454545 0.20454545 0.20454545\n",
            "  0.20454545 0.20454545 0.20454545 0.20454545 0.20454545 0.20454545\n",
            "  0.20454545 0.20454545 0.20454545 0.20454545 0.20454545]\n",
            " [0.40340909 0.40340909 0.80681818 0.40340909 0.40340909 0.40340909\n",
            "  0.40340909 0.80681818 0.40340909 0.40340909 0.40340909 0.40340909\n",
            "  0.40340909 0.40340909 0.40340909 0.80681818 0.40340909 0.40340909\n",
            "  0.80681818 0.40340909 0.40340909 0.40340909 0.80681818 0.40340909\n",
            "  0.40340909 0.40340909 0.40340909 0.40340909 0.40340909 0.40340909\n",
            "  0.40340909 0.40340909 0.40340909 0.40340909 0.40340909 0.40340909\n",
            "  0.40340909 0.40340909 0.40340909 0.40340909 0.40340909 0.40340909\n",
            "  0.40340909 0.40340909 0.40340909 0.40340909 0.80681818 0.40340909\n",
            "  0.40340909 0.40340909 0.40340909 0.40340909 0.40340909 0.40340909\n",
            "  0.40340909 0.40340909 0.40340909 0.40340909 0.40340909 0.40340909\n",
            "  0.40340909 0.40340909 0.40340909 0.40340909 0.40340909 0.40340909\n",
            "  0.40340909 0.40340909 0.40340909 0.40340909 0.40340909 0.40340909\n",
            "  0.40340909 0.40340909 0.40340909 0.40340909 0.40340909 0.40340909\n",
            "  0.40340909 0.40340909 0.80681818 0.40340909 0.40340909 0.40340909\n",
            "  0.40340909 0.40340909 0.40340909 0.40340909 0.40340909 0.40340909\n",
            "  0.40340909 0.40340909 0.40340909 0.40340909 0.40340909 0.40340909\n",
            "  0.40340909 0.40340909 0.40340909 0.40340909 0.40340909 0.40340909\n",
            "  0.40340909 0.40340909 0.40340909 0.40340909 0.40340909 0.40340909\n",
            "  0.40340909 0.40340909 0.40340909 0.80681818 0.40340909 0.40340909\n",
            "  0.40340909 0.40340909 0.40340909 0.40340909 0.40340909 0.40340909\n",
            "  0.40340909 0.40340909 0.40340909 0.40340909 0.80681818 0.40340909\n",
            "  0.40340909 0.40340909 0.40340909 0.40340909 0.40340909 0.40340909\n",
            "  0.40340909 0.40340909 0.40340909 0.40340909 0.40340909 0.40340909\n",
            "  0.40340909 0.40340909 0.40340909 0.40340909 0.40340909 0.40340909\n",
            "  0.40340909 0.40340909 0.40340909 0.40340909 0.40340909 0.40340909\n",
            "  0.40340909 0.40340909 0.40340909 0.40340909 0.40340909 0.40340909\n",
            "  0.40340909 0.40340909 0.40340909 0.40340909 0.40340909 0.40340909\n",
            "  0.40340909 0.40340909 0.40340909 0.40340909 0.40340909]]\n"
          ]
        }
      ]
    },
    {
      "cell_type": "markdown",
      "source": [
        "Since the p-value is greater than the typical significance level (e.g., 0.05), we fail to reject the null hypothesis. This means that there is no statistically significant evidence to suggest that the position of an NFL player affects the total contract amount they receive. The chi-square statistic of 506.35 with 498 degrees of freedom suggests that the observed frequencies (actual contract amounts by position) do not differ significantly from the expected frequencies (what we would expect if there were no relationship between position and contract amount)."
      ],
      "metadata": {
        "id": "Da6ZuNy0fRsE"
      }
    },
    {
      "cell_type": "code",
      "source": [
        "plt.figure(figsize=(14, 8))\n",
        "sns.boxplot(x='pos', y='value_norm', data=df2, showfliers=False)\n",
        "plt.title('Contract Values by Player Position')\n",
        "plt.xlabel('Position')\n",
        "plt.ylabel('Contract Value')\n",
        "plt.xticks(rotation=45)\n",
        "plt.show()"
      ],
      "metadata": {
        "colab": {
          "base_uri": "https://localhost:8080/",
          "height": 734
        },
        "id": "r7oYCORfb_gl",
        "outputId": "b0cd2fbe-a708-45ef-f4a3-4a71a797e161"
      },
      "execution_count": 54,
      "outputs": [
        {
          "output_type": "display_data",
          "data": {
            "text/plain": [
              "<Figure size 1400x800 with 1 Axes>"
            ],
            "image/png": "[encoded data removed]"
          },
          "metadata": {}
        }
      ]
    },
    {
      "cell_type": "markdown",
      "source": [
        "### Conclusion 3: Comparing Average Fantasy Points by Position"
      ],
      "metadata": {
        "id": "fAWqiW6eZxvr"
      }
    },
    {
      "cell_type": "markdown",
      "source": [
        "Calculate the mean or median fantasy points for each position and compare them."
      ],
      "metadata": {
        "id": "X1Au1XXsZ0yo"
      }
    },
    {
      "cell_type": "code",
      "source": [
        "mean_fantasy_points_by_position = df.groupby('position')['fantasy_points_ppr'].mean()\n",
        "mean_fantasy_points_by_position"
      ],
      "metadata": {
        "colab": {
          "base_uri": "https://localhost:8080/",
          "height": 240
        },
        "id": "Vmq2VzuuZ1Pg",
        "outputId": "d0bcb60c-c8f7-46b9-e918-d40949db888b"
      },
      "execution_count": 55,
      "outputs": [
        {
          "output_type": "execute_result",
          "data": {
            "text/plain": [
              "position\n",
              "QB    237.280000\n",
              "RB    187.850000\n",
              "TE    114.627778\n",
              "WR    179.043662\n",
              "Name: fantasy_points_ppr, dtype: float64"
            ],
            "text/html": [
              "<div>\n",
              "<style scoped>\n",
              "    .dataframe tbody tr th:only-of-type {\n",
              "        vertical-align: middle;\n",
              "    }\n",
              "\n",
              "    .dataframe tbody tr th {\n",
              "        vertical-align: top;\n",
              "    }\n",
              "\n",
              "    .dataframe thead th {\n",
              "        text-align: right;\n",
              "    }\n",
              "</style>\n",
              "<table border=\"1\" class=\"dataframe\">\n",
              "  <thead>\n",
              "    <tr style=\"text-align: right;\">\n",
              "      <th></th>\n",
              "      <th>fantasy_points_ppr</th>\n",
              "    </tr>\n",
              "    <tr>\n",
              "      <th>position</th>\n",
              "      <th></th>\n",
              "    </tr>\n",
              "  </thead>\n",
              "  <tbody>\n",
              "    <tr>\n",
              "      <th>QB</th>\n",
              "      <td>237.280000</td>\n",
              "    </tr>\n",
              "    <tr>\n",
              "      <th>RB</th>\n",
              "      <td>187.850000</td>\n",
              "    </tr>\n",
              "    <tr>\n",
              "      <th>TE</th>\n",
              "      <td>114.627778</td>\n",
              "    </tr>\n",
              "    <tr>\n",
              "      <th>WR</th>\n",
              "      <td>179.043662</td>\n",
              "    </tr>\n",
              "  </tbody>\n",
              "</table>\n",
              "</div><br><label><b>dtype:</b> float64</label>"
            ]
          },
          "metadata": {},
          "execution_count": 55
        }
      ]
    },
    {
      "cell_type": "markdown",
      "source": [
        "According to the analysis, quarterbacks seem to have the highest average fantasy points of 237.28, followed by running backs with 187.85, and wide receivers with 179.04. Surprisingly, tight ends have the lowest average of fantasy points at 114.63. It is implied that, in terms of producing fantasy points, quarterbacks tend to be the most productive position, while tight ends tend to average less. The reason for these relatively high points for quarterbacks could be that they play a key role in most offensive activities, hence the high value in fantasy leagues."
      ],
      "metadata": {
        "id": "BmH7CkbxfcGW"
      }
    },
    {
      "cell_type": "code",
      "source": [
        "# BAR PLOT\n",
        "# Create a bar plot of the mean fantasy points by position\n",
        "plt.figure(figsize=(10,6))\n",
        "mean_fantasy_points_by_position.plot(kind='bar', color='skyblue')\n",
        "plt.title('Average Fantasy Points by Position')\n",
        "plt.ylabel('Average Fantasy Points')\n",
        "plt.show()"
      ],
      "metadata": {
        "colab": {
          "base_uri": "https://localhost:8080/",
          "height": 573
        },
        "id": "rqZuZ41wZ7nr",
        "outputId": "05a9382a-d0f5-4137-b70a-9bc0cb3f6114"
      },
      "execution_count": 56,
      "outputs": [
        {
          "output_type": "display_data",
          "data": {
            "text/plain": [
              "<Figure size 1000x600 with 1 Axes>"
            ],
            "image/png": "[encoded data removed]"
          },
          "metadata": {}
        }
      ]
    },
    {
      "cell_type": "markdown",
      "source": [
        "# Conclusion\n",
        "These results have shown us possible avenues to explore for trying to predict how contract values and positions could influence fantasy rankings and/or player performance."
      ],
      "metadata": {
        "id": "IRB6LIQxg--h"
      }
    }
  ]
}